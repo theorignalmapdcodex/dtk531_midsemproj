{
  "cells": [
    {
      "cell_type": "markdown",
      "metadata": {
        "id": "qM9XphJIEHo5"
      },
      "source": [
        "### Goal of Project\n",
        "----\n",
        "#### This project ...."
      ]
    },
    {
      "cell_type": "code",
      "execution_count": 4,
      "metadata": {
        "id": "_-L7oegr_xVw"
      },
      "outputs": [],
      "source": [
        "# To ignore warnings for code output to look clean\n",
        "import warnings\n",
        "warnings.filterwarnings(\"ignore\")"
      ]
    },
    {
      "cell_type": "code",
      "execution_count": 5,
      "metadata": {
        "colab": {
          "base_uri": "https://localhost:8080/",
          "height": 1000
        },
        "id": "hSVsiEOu4f-C",
        "outputId": "a67e091c-bc6d-41b5-af95-3bdb05137fcf"
      },
      "outputs": [
        {
          "name": "stdout",
          "output_type": "stream",
          "text": [
            "Requirement already satisfied: annotated-types==0.7.0 in c:\\users\\micha\\desktop\\1_mapd'sdesktopinutah_27dec24\\15. github\\dtk531\\repos\\midsemproj\\midsem_venv\\lib\\site-packages (from -r requirements.txt (line 1)) (0.7.0)\n",
            "Requirement already satisfied: asttokens==3.0.0 in c:\\users\\micha\\desktop\\1_mapd'sdesktopinutah_27dec24\\15. github\\dtk531\\repos\\midsemproj\\midsem_venv\\lib\\site-packages (from -r requirements.txt (line 2)) (3.0.0)\n",
            "Requirement already satisfied: blinker==1.9.0 in c:\\users\\micha\\desktop\\1_mapd'sdesktopinutah_27dec24\\15. github\\dtk531\\repos\\midsemproj\\midsem_venv\\lib\\site-packages (from -r requirements.txt (line 3)) (1.9.0)\n",
            "Requirement already satisfied: cachetools==5.5.1 in c:\\users\\micha\\desktop\\1_mapd'sdesktopinutah_27dec24\\15. github\\dtk531\\repos\\midsemproj\\midsem_venv\\lib\\site-packages (from -r requirements.txt (line 4)) (5.5.1)\n",
            "Requirement already satisfied: certifi==2024.12.14 in c:\\users\\micha\\desktop\\1_mapd'sdesktopinutah_27dec24\\15. github\\dtk531\\repos\\midsemproj\\midsem_venv\\lib\\site-packages (from -r requirements.txt (line 5)) (2024.12.14)\n",
            "Requirement already satisfied: charset-normalizer==3.4.1 in c:\\users\\micha\\desktop\\1_mapd'sdesktopinutah_27dec24\\15. github\\dtk531\\repos\\midsemproj\\midsem_venv\\lib\\site-packages (from -r requirements.txt (line 6)) (3.4.1)\n",
            "Requirement already satisfied: click==8.1.8 in c:\\users\\micha\\desktop\\1_mapd'sdesktopinutah_27dec24\\15. github\\dtk531\\repos\\midsemproj\\midsem_venv\\lib\\site-packages (from -r requirements.txt (line 7)) (8.1.8)\n",
            "Requirement already satisfied: colorama==0.4.6 in c:\\users\\micha\\desktop\\1_mapd'sdesktopinutah_27dec24\\15. github\\dtk531\\repos\\midsemproj\\midsem_venv\\lib\\site-packages (from -r requirements.txt (line 8)) (0.4.6)\n",
            "Requirement already satisfied: comm==0.2.2 in c:\\users\\micha\\desktop\\1_mapd'sdesktopinutah_27dec24\\15. github\\dtk531\\repos\\midsemproj\\midsem_venv\\lib\\site-packages (from -r requirements.txt (line 9)) (0.2.2)\n",
            "Requirement already satisfied: DateTime==5.5 in c:\\users\\micha\\desktop\\1_mapd'sdesktopinutah_27dec24\\15. github\\dtk531\\repos\\midsemproj\\midsem_venv\\lib\\site-packages (from -r requirements.txt (line 10)) (5.5)\n",
            "Requirement already satisfied: debugpy==1.8.12 in c:\\users\\micha\\desktop\\1_mapd'sdesktopinutah_27dec24\\15. github\\dtk531\\repos\\midsemproj\\midsem_venv\\lib\\site-packages (from -r requirements.txt (line 11)) (1.8.12)\n",
            "Requirement already satisfied: decorator==5.1.1 in c:\\users\\micha\\desktop\\1_mapd'sdesktopinutah_27dec24\\15. github\\dtk531\\repos\\midsemproj\\midsem_venv\\lib\\site-packages (from -r requirements.txt (line 12)) (5.1.1)\n",
            "Requirement already satisfied: executing==2.2.0 in c:\\users\\micha\\desktop\\1_mapd'sdesktopinutah_27dec24\\15. github\\dtk531\\repos\\midsemproj\\midsem_venv\\lib\\site-packages (from -r requirements.txt (line 13)) (2.2.0)\n",
            "Requirement already satisfied: Flask==3.1.0 in c:\\users\\micha\\desktop\\1_mapd'sdesktopinutah_27dec24\\15. github\\dtk531\\repos\\midsemproj\\midsem_venv\\lib\\site-packages (from -r requirements.txt (line 14)) (3.1.0)\n",
            "Requirement already satisfied: google-ai-generativelanguage==0.6.15 in c:\\users\\micha\\desktop\\1_mapd'sdesktopinutah_27dec24\\15. github\\dtk531\\repos\\midsemproj\\midsem_venv\\lib\\site-packages (from -r requirements.txt (line 15)) (0.6.15)\n",
            "Requirement already satisfied: google-api-core==2.24.1 in c:\\users\\micha\\desktop\\1_mapd'sdesktopinutah_27dec24\\15. github\\dtk531\\repos\\midsemproj\\midsem_venv\\lib\\site-packages (from -r requirements.txt (line 16)) (2.24.1)\n",
            "Requirement already satisfied: google-api-python-client==2.160.0 in c:\\users\\micha\\desktop\\1_mapd'sdesktopinutah_27dec24\\15. github\\dtk531\\repos\\midsemproj\\midsem_venv\\lib\\site-packages (from -r requirements.txt (line 17)) (2.160.0)\n",
            "Requirement already satisfied: google-auth==2.38.0 in c:\\users\\micha\\desktop\\1_mapd'sdesktopinutah_27dec24\\15. github\\dtk531\\repos\\midsemproj\\midsem_venv\\lib\\site-packages (from -r requirements.txt (line 18)) (2.38.0)\n",
            "Requirement already satisfied: google-auth-httplib2==0.2.0 in c:\\users\\micha\\desktop\\1_mapd'sdesktopinutah_27dec24\\15. github\\dtk531\\repos\\midsemproj\\midsem_venv\\lib\\site-packages (from -r requirements.txt (line 19)) (0.2.0)\n",
            "Requirement already satisfied: google-generativeai==0.8.4 in c:\\users\\micha\\desktop\\1_mapd'sdesktopinutah_27dec24\\15. github\\dtk531\\repos\\midsemproj\\midsem_venv\\lib\\site-packages (from -r requirements.txt (line 20)) (0.8.4)\n",
            "Requirement already satisfied: googleapis-common-protos==1.66.0 in c:\\users\\micha\\desktop\\1_mapd'sdesktopinutah_27dec24\\15. github\\dtk531\\repos\\midsemproj\\midsem_venv\\lib\\site-packages (from -r requirements.txt (line 21)) (1.66.0)\n",
            "Requirement already satisfied: grpcio==1.70.0 in c:\\users\\micha\\desktop\\1_mapd'sdesktopinutah_27dec24\\15. github\\dtk531\\repos\\midsemproj\\midsem_venv\\lib\\site-packages (from -r requirements.txt (line 22)) (1.70.0)\n",
            "Requirement already satisfied: grpcio-status==1.70.0 in c:\\users\\micha\\desktop\\1_mapd'sdesktopinutah_27dec24\\15. github\\dtk531\\repos\\midsemproj\\midsem_venv\\lib\\site-packages (from -r requirements.txt (line 23)) (1.70.0)\n",
            "Requirement already satisfied: httplib2==0.22.0 in c:\\users\\micha\\desktop\\1_mapd'sdesktopinutah_27dec24\\15. github\\dtk531\\repos\\midsemproj\\midsem_venv\\lib\\site-packages (from -r requirements.txt (line 24)) (0.22.0)\n",
            "Requirement already satisfied: idna==3.10 in c:\\users\\micha\\desktop\\1_mapd'sdesktopinutah_27dec24\\15. github\\dtk531\\repos\\midsemproj\\midsem_venv\\lib\\site-packages (from -r requirements.txt (line 25)) (3.10)\n",
            "Requirement already satisfied: importlib_metadata==8.6.1 in c:\\users\\micha\\desktop\\1_mapd'sdesktopinutah_27dec24\\15. github\\dtk531\\repos\\midsemproj\\midsem_venv\\lib\\site-packages (from -r requirements.txt (line 26)) (8.6.1)\n",
            "Requirement already satisfied: ipykernel==6.29.5 in c:\\users\\micha\\desktop\\1_mapd'sdesktopinutah_27dec24\\15. github\\dtk531\\repos\\midsemproj\\midsem_venv\\lib\\site-packages (from -r requirements.txt (line 27)) (6.29.5)\n",
            "Requirement already satisfied: ipython==8.31.0 in c:\\users\\micha\\desktop\\1_mapd'sdesktopinutah_27dec24\\15. github\\dtk531\\repos\\midsemproj\\midsem_venv\\lib\\site-packages (from -r requirements.txt (line 28)) (8.31.0)\n",
            "Requirement already satisfied: itsdangerous==2.2.0 in c:\\users\\micha\\desktop\\1_mapd'sdesktopinutah_27dec24\\15. github\\dtk531\\repos\\midsemproj\\midsem_venv\\lib\\site-packages (from -r requirements.txt (line 29)) (2.2.0)\n",
            "Requirement already satisfied: jedi==0.19.2 in c:\\users\\micha\\desktop\\1_mapd'sdesktopinutah_27dec24\\15. github\\dtk531\\repos\\midsemproj\\midsem_venv\\lib\\site-packages (from -r requirements.txt (line 30)) (0.19.2)\n",
            "Requirement already satisfied: Jinja2==3.1.5 in c:\\users\\micha\\desktop\\1_mapd'sdesktopinutah_27dec24\\15. github\\dtk531\\repos\\midsemproj\\midsem_venv\\lib\\site-packages (from -r requirements.txt (line 31)) (3.1.5)\n",
            "Requirement already satisfied: jupyter_client==8.6.3 in c:\\users\\micha\\desktop\\1_mapd'sdesktopinutah_27dec24\\15. github\\dtk531\\repos\\midsemproj\\midsem_venv\\lib\\site-packages (from -r requirements.txt (line 32)) (8.6.3)\n",
            "Requirement already satisfied: jupyter_core==5.7.2 in c:\\users\\micha\\desktop\\1_mapd'sdesktopinutah_27dec24\\15. github\\dtk531\\repos\\midsemproj\\midsem_venv\\lib\\site-packages (from -r requirements.txt (line 33)) (5.7.2)\n",
            "Requirement already satisfied: MarkupSafe==3.0.2 in c:\\users\\micha\\desktop\\1_mapd'sdesktopinutah_27dec24\\15. github\\dtk531\\repos\\midsemproj\\midsem_venv\\lib\\site-packages (from -r requirements.txt (line 34)) (3.0.2)\n",
            "Requirement already satisfied: matplotlib-inline==0.1.7 in c:\\users\\micha\\desktop\\1_mapd'sdesktopinutah_27dec24\\15. github\\dtk531\\repos\\midsemproj\\midsem_venv\\lib\\site-packages (from -r requirements.txt (line 35)) (0.1.7)\n",
            "Requirement already satisfied: nest-asyncio==1.6.0 in c:\\users\\micha\\desktop\\1_mapd'sdesktopinutah_27dec24\\15. github\\dtk531\\repos\\midsemproj\\midsem_venv\\lib\\site-packages (from -r requirements.txt (line 36)) (1.6.0)\n",
            "Requirement already satisfied: numpy==2.2.2 in c:\\users\\micha\\desktop\\1_mapd'sdesktopinutah_27dec24\\15. github\\dtk531\\repos\\midsemproj\\midsem_venv\\lib\\site-packages (from -r requirements.txt (line 37)) (2.2.2)\n",
            "Requirement already satisfied: packaging==24.2 in c:\\users\\micha\\desktop\\1_mapd'sdesktopinutah_27dec24\\15. github\\dtk531\\repos\\midsemproj\\midsem_venv\\lib\\site-packages (from -r requirements.txt (line 38)) (24.2)\n",
            "Requirement already satisfied: paho-mqtt==2.1.0 in c:\\users\\micha\\desktop\\1_mapd'sdesktopinutah_27dec24\\15. github\\dtk531\\repos\\midsemproj\\midsem_venv\\lib\\site-packages (from -r requirements.txt (line 39)) (2.1.0)\n",
            "Requirement already satisfied: parso==0.8.4 in c:\\users\\micha\\desktop\\1_mapd'sdesktopinutah_27dec24\\15. github\\dtk531\\repos\\midsemproj\\midsem_venv\\lib\\site-packages (from -r requirements.txt (line 40)) (0.8.4)\n",
            "Requirement already satisfied: platformdirs==4.3.6 in c:\\users\\micha\\desktop\\1_mapd'sdesktopinutah_27dec24\\15. github\\dtk531\\repos\\midsemproj\\midsem_venv\\lib\\site-packages (from -r requirements.txt (line 41)) (4.3.6)\n",
            "Requirement already satisfied: prompt_toolkit==3.0.50 in c:\\users\\micha\\desktop\\1_mapd'sdesktopinutah_27dec24\\15. github\\dtk531\\repos\\midsemproj\\midsem_venv\\lib\\site-packages (from -r requirements.txt (line 42)) (3.0.50)\n",
            "Requirement already satisfied: proto-plus==1.26.0 in c:\\users\\micha\\desktop\\1_mapd'sdesktopinutah_27dec24\\15. github\\dtk531\\repos\\midsemproj\\midsem_venv\\lib\\site-packages (from -r requirements.txt (line 43)) (1.26.0)\n",
            "Requirement already satisfied: protobuf==5.29.3 in c:\\users\\micha\\desktop\\1_mapd'sdesktopinutah_27dec24\\15. github\\dtk531\\repos\\midsemproj\\midsem_venv\\lib\\site-packages (from -r requirements.txt (line 44)) (5.29.3)\n",
            "Requirement already satisfied: psutil==6.1.1 in c:\\users\\micha\\desktop\\1_mapd'sdesktopinutah_27dec24\\15. github\\dtk531\\repos\\midsemproj\\midsem_venv\\lib\\site-packages (from -r requirements.txt (line 45)) (6.1.1)\n",
            "Requirement already satisfied: pure_eval==0.2.3 in c:\\users\\micha\\desktop\\1_mapd'sdesktopinutah_27dec24\\15. github\\dtk531\\repos\\midsemproj\\midsem_venv\\lib\\site-packages (from -r requirements.txt (line 46)) (0.2.3)\n",
            "Requirement already satisfied: pyasn1==0.6.1 in c:\\users\\micha\\desktop\\1_mapd'sdesktopinutah_27dec24\\15. github\\dtk531\\repos\\midsemproj\\midsem_venv\\lib\\site-packages (from -r requirements.txt (line 47)) (0.6.1)\n",
            "Requirement already satisfied: pyasn1_modules==0.4.1 in c:\\users\\micha\\desktop\\1_mapd'sdesktopinutah_27dec24\\15. github\\dtk531\\repos\\midsemproj\\midsem_venv\\lib\\site-packages (from -r requirements.txt (line 48)) (0.4.1)\n",
            "Requirement already satisfied: pydantic==2.10.6 in c:\\users\\micha\\desktop\\1_mapd'sdesktopinutah_27dec24\\15. github\\dtk531\\repos\\midsemproj\\midsem_venv\\lib\\site-packages (from -r requirements.txt (line 49)) (2.10.6)\n",
            "Requirement already satisfied: pydantic_core==2.27.2 in c:\\users\\micha\\desktop\\1_mapd'sdesktopinutah_27dec24\\15. github\\dtk531\\repos\\midsemproj\\midsem_venv\\lib\\site-packages (from -r requirements.txt (line 50)) (2.27.2)\n",
            "Requirement already satisfied: Pygments==2.19.1 in c:\\users\\micha\\desktop\\1_mapd'sdesktopinutah_27dec24\\15. github\\dtk531\\repos\\midsemproj\\midsem_venv\\lib\\site-packages (from -r requirements.txt (line 51)) (2.19.1)\n",
            "Requirement already satisfied: pyparsing==3.2.1 in c:\\users\\micha\\desktop\\1_mapd'sdesktopinutah_27dec24\\15. github\\dtk531\\repos\\midsemproj\\midsem_venv\\lib\\site-packages (from -r requirements.txt (line 52)) (3.2.1)\n",
            "Requirement already satisfied: python-dateutil==2.9.0.post0 in c:\\users\\micha\\desktop\\1_mapd'sdesktopinutah_27dec24\\15. github\\dtk531\\repos\\midsemproj\\midsem_venv\\lib\\site-packages (from -r requirements.txt (line 53)) (2.9.0.post0)\n",
            "Requirement already satisfied: python-dotenv==1.0.1 in c:\\users\\micha\\desktop\\1_mapd'sdesktopinutah_27dec24\\15. github\\dtk531\\repos\\midsemproj\\midsem_venv\\lib\\site-packages (from -r requirements.txt (line 54)) (1.0.1)\n",
            "Requirement already satisfied: python-osc==1.8.3 in c:\\users\\micha\\desktop\\1_mapd'sdesktopinutah_27dec24\\15. github\\dtk531\\repos\\midsemproj\\midsem_venv\\lib\\site-packages (from -r requirements.txt (line 55)) (1.8.3)\n",
            "Requirement already satisfied: pytz==2024.2 in c:\\users\\micha\\desktop\\1_mapd'sdesktopinutah_27dec24\\15. github\\dtk531\\repos\\midsemproj\\midsem_venv\\lib\\site-packages (from -r requirements.txt (line 56)) (2024.2)\n",
            "Requirement already satisfied: pywin32==308 in c:\\users\\micha\\desktop\\1_mapd'sdesktopinutah_27dec24\\15. github\\dtk531\\repos\\midsemproj\\midsem_venv\\lib\\site-packages (from -r requirements.txt (line 57)) (308)\n",
            "Requirement already satisfied: pyzmq==26.2.0 in c:\\users\\micha\\desktop\\1_mapd'sdesktopinutah_27dec24\\15. github\\dtk531\\repos\\midsemproj\\midsem_venv\\lib\\site-packages (from -r requirements.txt (line 58)) (26.2.0)\n",
            "Requirement already satisfied: requests==2.32.3 in c:\\users\\micha\\desktop\\1_mapd'sdesktopinutah_27dec24\\15. github\\dtk531\\repos\\midsemproj\\midsem_venv\\lib\\site-packages (from -r requirements.txt (line 59)) (2.32.3)\n",
            "Requirement already satisfied: rsa==4.9 in c:\\users\\micha\\desktop\\1_mapd'sdesktopinutah_27dec24\\15. github\\dtk531\\repos\\midsemproj\\midsem_venv\\lib\\site-packages (from -r requirements.txt (line 60)) (4.9)\n",
            "Requirement already satisfied: scipy==1.15.1 in c:\\users\\micha\\desktop\\1_mapd'sdesktopinutah_27dec24\\15. github\\dtk531\\repos\\midsemproj\\midsem_venv\\lib\\site-packages (from -r requirements.txt (line 61)) (1.15.1)\n",
            "Requirement already satisfied: six==1.17.0 in c:\\users\\micha\\desktop\\1_mapd'sdesktopinutah_27dec24\\15. github\\dtk531\\repos\\midsemproj\\midsem_venv\\lib\\site-packages (from -r requirements.txt (line 62)) (1.17.0)\n",
            "Requirement already satisfied: stack-data==0.6.3 in c:\\users\\micha\\desktop\\1_mapd'sdesktopinutah_27dec24\\15. github\\dtk531\\repos\\midsemproj\\midsem_venv\\lib\\site-packages (from -r requirements.txt (line 63)) (0.6.3)\n",
            "Requirement already satisfied: tornado==6.4.2 in c:\\users\\micha\\desktop\\1_mapd'sdesktopinutah_27dec24\\15. github\\dtk531\\repos\\midsemproj\\midsem_venv\\lib\\site-packages (from -r requirements.txt (line 64)) (6.4.2)\n",
            "Requirement already satisfied: tqdm==4.67.1 in c:\\users\\micha\\desktop\\1_mapd'sdesktopinutah_27dec24\\15. github\\dtk531\\repos\\midsemproj\\midsem_venv\\lib\\site-packages (from -r requirements.txt (line 65)) (4.67.1)\n",
            "Requirement already satisfied: traitlets==5.14.3 in c:\\users\\micha\\desktop\\1_mapd'sdesktopinutah_27dec24\\15. github\\dtk531\\repos\\midsemproj\\midsem_venv\\lib\\site-packages (from -r requirements.txt (line 66)) (5.14.3)\n",
            "Requirement already satisfied: typing_extensions==4.12.2 in c:\\users\\micha\\desktop\\1_mapd'sdesktopinutah_27dec24\\15. github\\dtk531\\repos\\midsemproj\\midsem_venv\\lib\\site-packages (from -r requirements.txt (line 67)) (4.12.2)\n",
            "Requirement already satisfied: uritemplate==4.1.1 in c:\\users\\micha\\desktop\\1_mapd'sdesktopinutah_27dec24\\15. github\\dtk531\\repos\\midsemproj\\midsem_venv\\lib\\site-packages (from -r requirements.txt (line 68)) (4.1.1)\n",
            "Requirement already satisfied: urllib3==2.3.0 in c:\\users\\micha\\desktop\\1_mapd'sdesktopinutah_27dec24\\15. github\\dtk531\\repos\\midsemproj\\midsem_venv\\lib\\site-packages (from -r requirements.txt (line 69)) (2.3.0)\n",
            "Requirement already satisfied: wcwidth==0.2.13 in c:\\users\\micha\\desktop\\1_mapd'sdesktopinutah_27dec24\\15. github\\dtk531\\repos\\midsemproj\\midsem_venv\\lib\\site-packages (from -r requirements.txt (line 70)) (0.2.13)\n",
            "Requirement already satisfied: Werkzeug==3.1.3 in c:\\users\\micha\\desktop\\1_mapd'sdesktopinutah_27dec24\\15. github\\dtk531\\repos\\midsemproj\\midsem_venv\\lib\\site-packages (from -r requirements.txt (line 71)) (3.1.3)\n",
            "Requirement already satisfied: zipp==3.21.0 in c:\\users\\micha\\desktop\\1_mapd'sdesktopinutah_27dec24\\15. github\\dtk531\\repos\\midsemproj\\midsem_venv\\lib\\site-packages (from -r requirements.txt (line 72)) (3.21.0)\n",
            "Requirement already satisfied: zope.interface==7.2 in c:\\users\\micha\\desktop\\1_mapd'sdesktopinutah_27dec24\\15. github\\dtk531\\repos\\midsemproj\\midsem_venv\\lib\\site-packages (from -r requirements.txt (line 73)) (7.2)\n",
            "Requirement already satisfied: setuptools in c:\\users\\micha\\desktop\\1_mapd'sdesktopinutah_27dec24\\15. github\\dtk531\\repos\\midsemproj\\midsem_venv\\lib\\site-packages (from zope.interface==7.2->-r requirements.txt (line 73)) (65.5.0)\n"
          ]
        },
        {
          "name": "stderr",
          "output_type": "stream",
          "text": [
            "\n",
            "[notice] A new release of pip is available: 24.0 -> 25.0.1\n",
            "[notice] To update, run: python.exe -m pip install --upgrade pip\n"
          ]
        }
      ],
      "source": [
        "# Installing the dependencies\n",
        "!pip install -r requirements.txt"
      ]
    },
    {
      "cell_type": "code",
      "execution_count": 6,
      "metadata": {},
      "outputs": [],
      "source": [
        "# Adding recently installed dependencies to the requirements file\n",
        "!pip freeze > requirements.txt"
      ]
    },
    {
      "cell_type": "markdown",
      "metadata": {
        "id": "eD_ksQNDEHpD"
      },
      "source": [
        "---"
      ]
    },
    {
      "cell_type": "markdown",
      "metadata": {
        "id": "iRp4TY593wwd"
      },
      "source": [
        "## <mark>*End Of The Notebook!*</mark>"
      ]
    }
  ],
  "metadata": {
    "colab": {
      "include_colab_link": true,
      "provenance": []
    },
    "kernelspec": {
      "display_name": "midsem_venv",
      "language": "python",
      "name": "python3"
    },
    "language_info": {
      "codemirror_mode": {
        "name": "ipython",
        "version": 3
      },
      "file_extension": ".py",
      "mimetype": "text/x-python",
      "name": "python",
      "nbconvert_exporter": "python",
      "pygments_lexer": "ipython3",
      "version": "3.11.9"
    }
  },
  "nbformat": 4,
  "nbformat_minor": 0
}
